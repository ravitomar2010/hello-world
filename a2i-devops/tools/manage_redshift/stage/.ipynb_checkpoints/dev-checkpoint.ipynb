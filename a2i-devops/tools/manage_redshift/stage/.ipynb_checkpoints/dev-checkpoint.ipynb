{
 "cells": [
  {
   "cell_type": "code",
   "execution_count": null,
   "metadata": {},
   "outputs": [],
   "source": [
    "import os\n",
    "import boto3\n",
    "import psycopg2\n",
    "import pandas as pd\n"
   ]
  },
  {
   "cell_type": "code",
   "execution_count": null,
   "metadata": {},
   "outputs": [],
   "source": [
    "profileName=\"stage\"\n",
    "username=\"axiom_rnd\"\n",
    "Port=\"5439\"\n",
    "Host=\"axiom-rnd-dwh.hyke.ai\"\n",
    "secretName=\"/a2i/infra/redshift_stage/rootpassword\"\n"
   ]
  },
  {
   "cell_type": "code",
   "execution_count": null,
   "metadata": {},
   "outputs": [],
   "source": [
    "def getUserListforRND():\n",
    "    DBName=\"axiom_rnd\"\n",
    "    session = boto3.Session(profile_name=profileName)\n",
    "    client = session.client('ssm')\n",
    "    #client = boto3.client('ssm')\n",
    "    ParameterList = []\n",
    "    ParameterList.append(secretName)\n",
    "    param = client.get_parameters(Names=ParameterList, WithDecryption=True)\n",
    "    SecretKey = [secrets['Value'] for secrets in param['Parameters']][0]\n",
    "    sql=\"select usename, usesysid from pg_user;\"\n",
    "    conn = psycopg2.connect(dbname=DBName, user=username, password=SecretKey, port=Port, host=Host)\n",
    "    cur = conn.cursor();\n",
    "    cur.execute(sql)\n",
    "    res = cur.fetchall()\n",
    "    header_list = [\"username\", \"userid\"]\n",
    "    data = pd.DataFrame(res, columns=header_list)\n",
    "    #print(data)\n",
    "    #print(\"Started\",SecretKey)\n",
    "    return conn,data\n",
    "\n",
    "def getGroupListforRND():\n",
    "    DBName=\"axiom_rnd\"\n",
    "    session = boto3.Session(profile_name=profileName)\n",
    "    client = session.client('ssm')\n",
    "    #client = boto3.client('ssm')\n",
    "    ParameterList = []\n",
    "    ParameterList.append(secretName)\n",
    "    param = client.get_parameters(Names=ParameterList, WithDecryption=True)\n",
    "    SecretKey = [secrets['Value'] for secrets in param['Parameters']][0]\n",
    "    sql=\"select * from pg_group;\"\n",
    "    conn = psycopg2.connect(dbname=DBName, user=username, password=SecretKey, port=Port, host=Host)\n",
    "    cur = conn.cursor();\n",
    "    cur.execute(sql)\n",
    "    res = cur.fetchall()\n",
    "    header_list = [\"groupname\", \"groupid\", \"grouplist\"]\n",
    "    data = pd.DataFrame(res, columns=header_list)\n",
    "    #print(data)\n",
    "    #print(\"Started\",SecretKey)\n",
    "    return conn,data"
   ]
  },
  {
   "cell_type": "code",
   "execution_count": null,
   "metadata": {},
   "outputs": [],
   "source": [
    "# gList=groupList\n",
    "# uList=userList\n",
    "# fList=[]\n",
    "#print(type(gList));\n",
    "def createUserGroupMapping(uList, gList):\n",
    "    f=open(\"groupMemberView.txt\",\"w+\")\n",
    "    for ind in gList.index: \n",
    "         #print(gList['groupname'][ind], gList['grouplist'][ind]) \n",
    "         tempGroupMemberLists=(gList['grouplist'][ind])\n",
    "         tempGroupMemberListsToWrite=[]\n",
    "         #print(\"Group name is \",gList['groupname'][ind],\" and members are \",tempGroupMemberLists)\n",
    "         if tempGroupMemberLists == None:\n",
    "            print(\"Group \",gList['groupname'][ind],\" is empty\")\n",
    "         else:\n",
    "            f.write(gList['groupname'][ind])\n",
    "            f.write(\" \")\n",
    "            print(\"Group \",gList['groupname'][ind])\n",
    "            for member in tempGroupMemberLists:\n",
    "                #print(member)\n",
    "                for ind in uList.index: \n",
    "                    #print(uList['username'][ind], uList['userid'][ind])\n",
    "                    if uList['userid'][ind] == member:\n",
    "                        #print(uList['username'][ind])\n",
    "                        tempGroupMemberListsToWrite.append(uList['username'][ind])\n",
    "                        #print(tempGroupMemberListsToWrite)\n",
    "            f.write(', '.join(tempGroupMemberListsToWrite))\n",
    "            #f.write(str(tempGroupMemberListsToWrite))\n",
    "            f.write(\"\\n\")\n",
    "\n",
    "    f.close()\n",
    "    #sort \"groupMemberView.txt\"\n",
    "    shopping = open('groupMemberView.txt')\n",
    "    lines = shopping.readlines()\n",
    "    lines.sort()\n",
    "    f=open(\"groupMemberView.txt\",\"w+\")\n",
    "    for item in lines:\n",
    "        f.write(item)\n",
    "    f.close()"
   ]
  },
  {
   "cell_type": "code",
   "execution_count": null,
   "metadata": {},
   "outputs": [],
   "source": [
    "print(\"Initiation\")\n",
    "\n",
    "cnn,userList=getUserListforRND();\n",
    "cnn,groupList=getGroupListforRND();\n",
    "createUserGroupMapping(userList,groupList);"
   ]
  }
 ],
 "metadata": {
  "kernelspec": {
   "display_name": "Python 3",
   "language": "python",
   "name": "python3"
  },
  "language_info": {
   "codemirror_mode": {
    "name": "ipython",
    "version": 3
   },
   "file_extension": ".py",
   "mimetype": "text/x-python",
   "name": "python",
   "nbconvert_exporter": "python",
   "pygments_lexer": "ipython3",
   "version": "3.7.4"
  }
 },
 "nbformat": 4,
 "nbformat_minor": 2
}
